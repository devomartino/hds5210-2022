{
 "cells": [
  {
   "cell_type": "markdown",
   "metadata": {
    "nbgrader": {
     "grade": false,
     "grade_id": "cell-fc1c39d0d6f8b82a",
     "locked": true,
     "schema_version": 1,
     "solution": false
    }
   },
   "source": [
    "# Week 13 Programming Assignment\n",
    "\n",
    "As you're working on identifying data for your final project, it's helpful to spend some time exploring your various data files.  For this week's assignment, I'd like you to take a few of the ideas from the the lectures, review assignment, and tonight's lecture to start exploring the data you plan to use for the final project.\n",
    "\n",
    "For the following activities, you can use just one of the data files that you've identified, or you can do the activities using different data files.  That's up to you.  Please describe what you're doing in a Markdown cell or in the comments of your code.  When you've completed the assignment, submit it as normal."
   ]
  },
  {
   "cell_type": "markdown",
   "metadata": {},
   "source": [
    "### 1. Basic Statistics\n",
    "\n",
    "Use Python to read in your data file and show many rows and columns your data has."
   ]
  },
  {
   "cell_type": "code",
   "execution_count": 1,
   "metadata": {},
   "outputs": [
    {
     "data": {
      "text/plain": [
       "(370, 26)"
      ]
     },
     "execution_count": 1,
     "metadata": {},
     "output_type": "execute_result"
    }
   ],
   "source": [
    "import pandas as pd\n",
    "flu = pd.read_csv('Influenza_Surveillance_Weekly.csv')\n",
    "flu.shape"
   ]
  },
  {
   "cell_type": "markdown",
   "metadata": {},
   "source": [
    "### 2. Data Diversity\n",
    "\n",
    "Use Python to identify how many unique values each column in your data has.  Use Python to identify which column has the greatest number of distinct values (aka the most diversity)?  If your data has a unique identifier (e.g. a person or visit or record ID) then find the column with the next most number of unique values."
   ]
  },
  {
   "cell_type": "code",
   "execution_count": 42,
   "metadata": {},
   "outputs": [
    {
     "name": "stdout",
     "output_type": "stream",
     "text": [
      "MMWR_WEEK                       370\n",
      "WEEK_START                      370\n",
      "WEEK_END                        370\n",
      "FLU_RISK_LEVEL                    4\n",
      "INFLUENZA_SEASON                  8\n",
      "HOSP_FLU_ICU_WEEKLY              44\n",
      "HOSP_FLU_ICU_CUMULATIVE         128\n",
      "LAB_FLU_TESTED                  323\n",
      "LAB_FLU_POSITIVE                125\n",
      "LAB_FLU_PCT_POSITIVE             32\n",
      "LAB_TOT_A_POSITIVE              114\n",
      "LAB_TOT_B_POSITIVE               61\n",
      "LAB_TOT_H1N1_POSITIVE            54\n",
      "LAB_TOT_H3N2_POSITIVE            60\n",
      "LAB_TOT_NOTSUBTYPED_POSITIVE     95\n",
      "LAB_TOT_TESTED_CUMULATIVE       369\n",
      "LAB_TOT_POSITIVE_CUMULATIVE     255\n",
      "LAB_PCT_POSITIVE_CUMULATIVE      20\n",
      "ILI_TOT_ILI_ILINET              212\n",
      "ILI_TOT_SEEN_ILINET             349\n",
      "ILI_PCT_POSITIVE_ILINET           9\n",
      "ILI_TOT_ILI_ESSENCE             286\n",
      "ILI_TOT_SEEN_ESSENCE            361\n",
      "ILI_PCT_POSITIVE_ESSENCE          9\n",
      "PEDIATRIC_DEATHS                  3\n",
      "RECORD_ID                       370\n",
      "dtype: int64                          Most Values == MMWR_WEEK\n"
     ]
    }
   ],
   "source": [
    "uni = flu.apply(lambda col: len(col.unique()))\n",
    "print(uni, '                         Most Values == '+uni.idxmax())"
   ]
  },
  {
   "cell_type": "markdown",
   "metadata": {},
   "source": [
    "### 3. Data Redundancy\n",
    "\n",
    "Use Python to identify any columns in your data where the value for every row is the same.  For example, if you had a gender column and all the rows said 'M', then you would want to write the code that helped you determine that."
   ]
  },
  {
   "cell_type": "code",
   "execution_count": 83,
   "metadata": {},
   "outputs": [
    {
     "data": {
      "text/plain": [
       "array([False, False, False, False, False, False, False, False, False,\n",
       "       False, False, False, False, False, False, False, False, False,\n",
       "       False, False, False, False, False, False, False, False, False])"
      ]
     },
     "execution_count": 83,
     "metadata": {},
     "output_type": "execute_result"
    }
   ],
   "source": [
    "nuflu = flu.to_numpy()\n",
    "(nuflu[0] == nuflu).all(0)\n",
    "\n",
    "## There are no columns with redundant data."
   ]
  },
  {
   "cell_type": "markdown",
   "metadata": {},
   "source": [
    "### 4. Range of Values\n",
    "\n",
    "Your data almost certainly has some numeric columns that can be summed or averaged.  Create a histogram that shows the distribution of values for this column."
   ]
  },
  {
   "cell_type": "code",
   "execution_count": 84,
   "metadata": {},
   "outputs": [
    {
     "data": {
      "text/plain": [
       "<matplotlib.axes._subplots.AxesSubplot at 0x7f070dbf97f0>"
      ]
     },
     "execution_count": 84,
     "metadata": {},
     "output_type": "execute_result"
    },
    {
     "data": {
      "image/png": "[encoded data removed]",
      "text/plain": [
       "<Figure size 432x288 with 1 Axes>"
      ]
     },
     "metadata": {
      "needs_background": "light"
     },
     "output_type": "display_data"
    }
   ],
   "source": [
    "flu['HOSP_FLU_ICU_CUMULATIVE'].hist()"
   ]
  },
  {
   "cell_type": "markdown",
   "metadata": {},
   "source": [
    "### 5. Discussion\n",
    "\n",
    "Do any additional exploration of this data that you think may be interesting and include your code here.  Then go onto Slack and make a post about what you've observed.  Share your observation.  Share your code, if you like.  Share a screenshot of the data or a chart based on the data.\n",
    "\n",
    "Then comment on at least two other people's observations that they share on Slack.  (Use the reply as thread option in Slack to keep the conversation organized.)"
   ]
  },
  {
   "cell_type": "code",
   "execution_count": 99,
   "metadata": {},
   "outputs": [
    {
     "name": "stdout",
     "output_type": "stream",
     "text": [
      "FLU_RISK_LEVEL\n",
      "DECREASING     8.888889\n",
      "HIGH          33.000000\n",
      "INCREASING    10.513514\n",
      "LOW            0.469231\n",
      "Name: HOSP_FLU_ICU_WEEKLY, dtype: float64\n"
     ]
    },
    {
     "data": {
      "image/png": "[encoded data removed]",
      "text/plain": [
       "<Figure size 432x288 with 1 Axes>"
      ]
     },
     "metadata": {
      "needs_background": "light"
     },
     "output_type": "display_data"
    }
   ],
   "source": [
    "flu['by_year'] = flu['INFLUENZA_SEASON'].str[5:]\n",
    "risk = flu.groupby('FLU_RISK_LEVEL')['HOSP_FLU_ICU_WEEKLY'].mean()\n",
    "risk.plot()\n",
    "print(risk)"
   ]
  },
  {
   "cell_type": "markdown",
   "metadata": {},
   "source": [
    "\n",
    "\n",
    "---\n",
    "\n",
    "\n",
    "\n",
    "## Submitting Your Work\n",
    "\n",
    "Submit your work as usual."
   ]
  },
  {
   "cell_type": "code",
   "execution_count": null,
   "metadata": {},
   "outputs": [],
   "source": []
  }
 ],
 "metadata": {
  "celltoolbar": "Create Assignment",
  "kernelspec": {
   "display_name": "Python 3",
   "language": "python",
   "name": "python3"
  },
  "language_info": {
   "codemirror_mode": {
    "name": "ipython",
    "version": 3
   },
   "file_extension": ".py",
   "mimetype": "text/x-python",
   "name": "python",
   "nbconvert_exporter": "python",
   "pygments_lexer": "ipython3",
   "version": "3.6.7"
  }
 },
 "nbformat": 4,
 "nbformat_minor": 2
}
